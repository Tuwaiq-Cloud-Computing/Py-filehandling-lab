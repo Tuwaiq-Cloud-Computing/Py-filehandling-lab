{
 "cells": [
  {
   "cell_type": "code",
   "execution_count": 1,
   "metadata": {},
   "outputs": [],
   "source": [
    "def split_text_by_comma(file_path):\n",
    "    with open(file_path, 'r') as f:\n",
    "        text = f.read()\n",
    "    parts = text.split(',')\n",
    "    for i, part in enumerate(parts):\n",
    "        with open(f'part_{i}.txt', 'w') as f:\n",
    "            f.write(part)\n"
   ]
  },
  {
   "cell_type": "code",
   "execution_count": 2,
   "metadata": {},
   "outputs": [],
   "source": [
    "split_text_by_comma(\"string.txt\")"
   ]
  }
 ],
 "metadata": {
  "kernelspec": {
   "display_name": "base",
   "language": "python",
   "name": "python3"
  },
  "language_info": {
   "codemirror_mode": {
    "name": "ipython",
    "version": 3
   },
   "file_extension": ".py",
   "mimetype": "text/x-python",
   "name": "python",
   "nbconvert_exporter": "python",
   "pygments_lexer": "ipython3",
   "version": "3.9.12"
  },
  "orig_nbformat": 4,
  "vscode": {
   "interpreter": {
    "hash": "5d48fdbaa56a3092275c40445f84d74f3ed98730d3cb8dc9625f41ab83fcdc0e"
   }
  }
 },
 "nbformat": 4,
 "nbformat_minor": 2
}
